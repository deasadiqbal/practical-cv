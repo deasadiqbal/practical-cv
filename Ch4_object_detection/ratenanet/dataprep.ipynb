{
 "cells": [
  {
   "attachments": {},
   "cell_type": "markdown",
   "metadata": {},
   "source": [
    "## Data soruce config\n"
   ]
  },
  {
   "cell_type": "code",
   "execution_count": 5,
   "metadata": {},
   "outputs": [],
   "source": [
    "import tensorflow as tf\n",
    "import numpy as np \n",
    "import pandas as pd\n",
    "import matplotlib as mlp\n",
    "import matplotlib.pyplot as plt\n",
    "from threading import Lock\n",
    "import math, json, random, os\n",
    "import concurrent.futures\n",
    "AUTO = tf.data.AUTOTUNE\n",
    "\n",
    "# from tensorboard_model.vision import box_opx, boxutils"
   ]
  },
  {
   "cell_type": "code",
   "execution_count": 2,
   "metadata": {},
   "outputs": [],
   "source": [
    "DATA_PATH = \"\"\n",
    "OUTPUT_DIR = \"\"\n",
    "OUTPUT_NAME_PREFIX = 'arthropods_'\n",
    "IMG_PRE_SHARD = 481\n",
    "TARGET_WIDTH = 1024\n",
    "\n",
    "RAW_CALSSES = ['Lepidoptera', 'Hymenoptera', 'Hemiptera', 'Odonata', 'Diptera', 'Araneae', 'Coleoptera',\n",
    "               '_truncated', '_blurred', '_occluded', ]\n",
    "CLASSES = [klass for klass in RAW_CALSSES if klass not in ['_truncated', '_blurred', '_occluded',]]"
   ]
  },
  {
   "attachments": {},
   "cell_type": "markdown",
   "metadata": {},
   "source": [
    "## Dispaly Utills"
   ]
  },
  {
   "cell_type": "code",
   "execution_count": null,
   "metadata": {},
   "outputs": [],
   "source": []
  },
  {
   "attachments": {},
   "cell_type": "markdown",
   "metadata": {},
   "source": [
    "## Load MetaData"
   ]
  },
  {
   "cell_type": "code",
   "execution_count": 8,
   "metadata": {},
   "outputs": [],
   "source": [
    "json_filename = os.path.join(DATA_PATH, 'annotations.json')\n",
    "jpeg_filename = os.path.join(DATA_PATH, \"*/*.jpg\")\n",
    "\n",
    "# Read the json file\\\n",
    "def load_json(filename, p): #p represents the path to the json file\n",
    "    p.step() #p is a progress bar\n",
    "    with tf.io.gfile.GFile(filename, \"r\") as f: #tf.io.gfile.GFile is a wrapper around the python file object\n",
    "        return json.load(f)\n",
    "\n",
    "def filename_key(filename):\n",
    "    path, filename = os.path.split(filename) #os.path.split splits the path and the filename\n",
    "    dirname = os.path.spilt(path)[1] \n",
    "    return os.path.join(dirname, filename) \n",
    "\n",
    "def load_metadata(filename_p, jpeg_filename): #filename_p is the path to the json file\n",
    "    json_file = tf.io.gfile.glob(json_filename) #tf.io.gfile.glob returns a list of files that match the given pattern\n",
    "    jpeg_files = tf.io.gfile.glob(jpeg_filename) \n",
    "\n",
    "    p = tf.keras.utils.Progbar(len(json_file)) #tf.keras.utils.Progbar is a progress bar\n",
    "    with concurrent.futures.ThreadPoolExecutor() as executor: #concurrent.futures.ThreadPoolExecutor is a thread pool executor which is used to execute calls asynchronously\n",
    "        data = executor.map(lambda x: load_json(x, p), json_file) #executor.map returns an iterator that yields the results of the given function\n",
    "    data = {filename_key(x['asset']['path']): x for x in data} #filename_key returns the path to the image\n",
    "    return data, jpeg_files "
   ]
  },
  {
   "cell_type": "code",
   "execution_count": 9,
   "metadata": {},
   "outputs": [],
   "source": [
    "RAW_METADATA, JPEG_FILES = load_metadata(json_filename, jpeg_filename)"
   ]
  },
  {
   "cell_type": "code",
   "execution_count": null,
   "metadata": {},
   "outputs": [],
   "source": []
  }
 ],
 "metadata": {
  "kernelspec": {
   "display_name": "Python 3",
   "language": "python",
   "name": "python3"
  },
  "language_info": {
   "codemirror_mode": {
    "name": "ipython",
    "version": 3
   },
   "file_extension": ".py",
   "mimetype": "text/x-python",
   "name": "python",
   "nbconvert_exporter": "python",
   "pygments_lexer": "ipython3",
   "version": "3.11.3"
  },
  "orig_nbformat": 4
 },
 "nbformat": 4,
 "nbformat_minor": 2
}
