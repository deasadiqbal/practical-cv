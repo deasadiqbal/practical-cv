{
 "cells": [
  {
   "cell_type": "code",
   "execution_count": 1,
   "metadata": {},
   "outputs": [
    {
     "name": "stdout",
     "output_type": "stream",
     "text": [
      "These are the available classes: ['E:\\\\\\\\computer vision\\\\\\\\practical-cv\\\\\\\\dataset\\\\\\\\train\\\\daisy', 'E:\\\\\\\\computer vision\\\\\\\\practical-cv\\\\\\\\dataset\\\\\\\\train\\\\dandelion', 'E:\\\\\\\\computer vision\\\\\\\\practical-cv\\\\\\\\dataset\\\\\\\\train\\\\rose', 'E:\\\\\\\\computer vision\\\\\\\\practical-cv\\\\\\\\dataset\\\\\\\\train\\\\sunflower', 'E:\\\\\\\\computer vision\\\\\\\\practical-cv\\\\\\\\dataset\\\\\\\\train\\\\tulip']\n"
     ]
    }
   ],
   "source": [
    "import matplotlib.pylab as plt\n",
    "import numpy as np\n",
    "import tensorflow as tf\n",
    "\n",
    "IMG_HEIGHT = 224\n",
    "IMG_WIDTH = 224\n",
    "IMG_CHANNELS = 3\n",
    "\n",
    "def read_and_decode(filename, reshape_dims):\n",
    "  # Read the file\n",
    "  img = tf.io.read_file(filename)\n",
    "  # Convert the compressed string to a 3D uint8 tensor.\n",
    "  img = tf.image.decode_jpeg(img, channels=IMG_CHANNELS)\n",
    "  # Use `convert_image_dtype` to convert to floats in the [0,1] range.\n",
    "  img = tf.image.convert_image_dtype(img, tf.float32)\n",
    "  # Resize the image to the desired size.\n",
    "  return tf.image.resize(img, reshape_dims)\n",
    "\n",
    "CLASS_NAMES = [item.numpy().decode(\"utf-8\") for item in \n",
    "               tf.strings.regex_replace(\n",
    "                 tf.io.gfile.glob(r\"E:\\\\computer vision\\\\practical-cv\\\\dataset\\\\train/*\"),\n",
    "                 r'E:\\\\computer vision\\\\practical-cv\\\\dataset\\\\train/', \"\")]\n",
    "CLASS_NAMES = [item for item in CLASS_NAMES if item.find(\".\") == -1]\n",
    "print(\"These are the available classes:\", CLASS_NAMES)\n",
    "\n"
   ]
  },
  {
   "cell_type": "code",
   "execution_count": 2,
   "metadata": {},
   "outputs": [
    {
     "name": "stdout",
     "output_type": "stream",
     "text": [
      "tf.Tensor(b'daisy', shape=(), dtype=string) tf.Tensor([0.6474569  0.6199989  0.50390774], shape=(3,), dtype=float32)\n"
     ]
    }
   ],
   "source": [
    "import tensorflow as tf\n",
    "import numpy as np\n",
    "import matplotlib.pyplot as plt\n",
    "def decode_csv(csv_row):\n",
    "  record_defaults = [\"path\", \"flower\"]\n",
    "  filename, label_string = tf.io.decode_csv(csv_row, record_defaults)\n",
    "  img = read_and_decode(filename, [IMG_HEIGHT, IMG_WIDTH])\n",
    "  # label = tf.math.equal(CLASS_NAMES, label_string)\n",
    "  return img, label_string\n",
    "\n",
    "dataset = (tf.data.TextLineDataset(\n",
    "    \"E:\\\\computer vision\\\\practical-cv\\\\dataset\\\\train_csv.csv\").map(decode_csv))\n",
    "\n",
    "for img, label in dataset.take(1):\n",
    "  avg = tf.math.reduce_mean(img, axis=[0, 1]) # average pixel in the image\n",
    "  print(label, avg)"
   ]
  },
  {
   "cell_type": "code",
   "execution_count": 3,
   "metadata": {},
   "outputs": [],
   "source": [
    "def decode_csv(csv_row):\n",
    "  record_defaults = [\"path\", \"flower\"]\n",
    "  filename, label_string = tf.io.decode_csv(csv_row, record_defaults)\n",
    "  img = read_and_decode(filename, [IMG_HEIGHT, IMG_WIDTH])\n",
    "  label = tf.argmax(tf.math.equal(CLASS_NAMES, label_string))\n",
    "  return img, label"
   ]
  },
  {
   "cell_type": "code",
   "execution_count": 4,
   "metadata": {},
   "outputs": [],
   "source": [
    "train_dataset = (tf.data.TextLineDataset(\n",
    "    \"E:\\\\computer vision\\\\practical-cv\\\\dataset\\\\train_csv.csv\").\n",
    "    map(decode_csv)).batch(3)"
   ]
  },
  {
   "cell_type": "code",
   "execution_count": 5,
   "metadata": {},
   "outputs": [],
   "source": [
    "test_dataset = (tf.data.TextLineDataset(\n",
    "    \"E:\\\\computer vision\\\\practical-cv\\\\dataset\\\\val.csv\").\n",
    "    map(decode_csv)).batch(3)"
   ]
  },
  {
   "cell_type": "code",
   "execution_count": 6,
   "metadata": {},
   "outputs": [],
   "source": [
    "\"\"\"\n",
    "in this function i basiclly defining our nural network with learning rate and regulraization \n",
    "\"\"\"\n",
    "\n",
    "IMG_HEIGHT = 224\n",
    "IMG_WIDTH = 224\n",
    "IMG_CHANNELS = 3\n",
    "\n",
    "def train_and_evaluate(batch_size = 32,\n",
    "                       lrate = 0.001, # default in Adam constructor\n",
    "                       l1 = 0,\n",
    "                       l2 = 0,\n",
    "                       num_hidden = 128):\n",
    "    regulrizer = tf.keras.regularizers.l1_l2(l1, l2),\n",
    "\n",
    "    train_dataset = (tf.data.TextLineDataset(\n",
    "    \"E:\\\\computer vision\\\\practical-cv\\\\dataset\\\\train_csv.csv\").\n",
    "    map(decode_csv)).batch(batch_size),\n",
    "\n",
    "    test_dataset = (tf.data.TextLineDataset(\n",
    "    \"E:\\\\computer vision\\\\practical-cv\\\\dataset\\\\val.csv\").\n",
    "    map(decode_csv)).batch(batch_size),\n",
    "\n",
    "    model = tf.keras.Sequential([\n",
    "        tf.keras.layers.Flatten(input_shape =  (IMG_HEIGHT, IMG_WIDTH, IMG_CHANNELS)),\n",
    "        tf.keras.layers.Dense(num_hidden, kernel_regularizer= regulrizer, activation= tf.keras.activations.relu),\n",
    "        tf.keras.layers.Dense(len(CLASS_NAMES), kernel_regularizer= regulrizer, activation='softmax')\n",
    "    ])\n",
    "\n",
    "    model.compile(optimizer= tf.keras.optimizers.Adam(learning_rate=lrate),\n",
    "                  loss = tf.keras.losses.SparseCategoricalCrossentropy(from_logits=False),\n",
    "                  metrics=['accuracy'])\n",
    "    history = model.fit(train_dataset, validation_data=test_dataset, epochs = 2)\n",
    "\n",
    "    return model"
   ]
  },
  {
   "cell_type": "code",
   "execution_count": null,
   "metadata": {},
   "outputs": [],
   "source": []
  }
 ],
 "metadata": {
  "kernelspec": {
   "display_name": "Python 3",
   "language": "python",
   "name": "python3"
  },
  "language_info": {
   "codemirror_mode": {
    "name": "ipython",
    "version": 3
   },
   "file_extension": ".py",
   "mimetype": "text/x-python",
   "name": "python",
   "nbconvert_exporter": "python",
   "pygments_lexer": "ipython3",
   "version": "3.11.3"
  },
  "orig_nbformat": 4
 },
 "nbformat": 4,
 "nbformat_minor": 2
}
