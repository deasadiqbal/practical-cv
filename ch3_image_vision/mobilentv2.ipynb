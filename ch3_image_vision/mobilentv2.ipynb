{
 "cells": [
  {
   "cell_type": "code",
   "execution_count": 4,
   "metadata": {},
   "outputs": [
    {
     "data": {
      "text/plain": [
       "<keras.layers.convolutional.depthwise_conv2d.DepthwiseConv2D at 0x1f2d0fd5190>"
      ]
     },
     "execution_count": 4,
     "metadata": {},
     "output_type": "execute_result"
    }
   ],
   "source": [
    "\"\"\"\n",
    "the filtering operation can be repeated with new filter weights to pro‐\n",
    "duce double or triple the number of channels. This is called a “depth multiplier” but\n",
    "its usual value is 1, which is why it is not represented in the picture.\n",
    "\"\"\"\n",
    "import tensorflow as tf\n",
    "tf.keras.layers.DepthwiseConv2D(kernel_size=(3,3), strides=(1,1), padding='valid', depth_multiplier = 1)"
   ]
  },
  {
   "cell_type": "code",
   "execution_count": 5,
   "metadata": {},
   "outputs": [
    {
     "data": {
      "text/plain": [
       "<keras.layers.convolutional.separable_conv2d.SeparableConv2D at 0x1f2eaa71790>"
      ]
     },
     "execution_count": 5,
     "metadata": {},
     "output_type": "execute_result"
    }
   ],
   "source": [
    "#spareable convolution\n",
    "tf.keras.layers.SeparableConv2D(kernel_size=(3,3), filters=64)"
   ]
  },
  {
   "cell_type": "code",
   "execution_count": 7,
   "metadata": {},
   "outputs": [
    {
     "data": {
      "text/plain": [
       "<keras.layers.convolutional.conv2d.Conv2D at 0x1f2eaab5e50>"
      ]
     },
     "execution_count": 7,
     "metadata": {},
     "output_type": "execute_result"
    }
   ],
   "source": [
    "# depth-separable convolution can also be represented in Keras as a sequence of two layers:\n",
    "tf.keras.layers.DepthwiseConv2D(kernel_size=(3,3))\n",
    "tf.keras.layers.Conv2D(kernel_size=(1,1), filters=64)"
   ]
  },
  {
   "cell_type": "code",
   "execution_count": null,
   "metadata": {},
   "outputs": [],
   "source": []
  }
 ],
 "metadata": {
  "kernelspec": {
   "display_name": "Python 3",
   "language": "python",
   "name": "python3"
  },
  "language_info": {
   "codemirror_mode": {
    "name": "ipython",
    "version": 3
   },
   "file_extension": ".py",
   "mimetype": "text/x-python",
   "name": "python",
   "nbconvert_exporter": "python",
   "pygments_lexer": "ipython3",
   "version": "3.11.3"
  },
  "orig_nbformat": 4
 },
 "nbformat": 4,
 "nbformat_minor": 2
}
